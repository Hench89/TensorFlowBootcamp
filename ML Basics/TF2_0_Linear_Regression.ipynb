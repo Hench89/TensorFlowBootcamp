{
 "cells": [
  {
   "cell_type": "markdown",
   "metadata": {},
   "source": [
    "# 1. Getting Started"
   ]
  },
  {
   "cell_type": "markdown",
   "metadata": {},
   "source": [
    "#### Get Libs"
   ]
  },
  {
   "cell_type": "code",
   "execution_count": 12,
   "metadata": {
    "id": "4Xxa6cWIDsax"
   },
   "outputs": [],
   "source": [
    "import tensorflow as tf\n",
    "import pandas as pd\n",
    "import numpy as np\n",
    "import matplotlib.pyplot as plt\n",
    "import requests as rq"
   ]
  },
  {
   "cell_type": "markdown",
   "metadata": {},
   "source": [
    "#### Get Data"
   ]
  },
  {
   "cell_type": "code",
   "execution_count": 15,
   "metadata": {},
   "outputs": [],
   "source": [
    "def download(url, file_name):\n",
    "    with open(file_name, \"wb\") as file:\n",
    "        response = rq.get(url)\n",
    "        file.write(response.content)\n",
    "        \n",
    "# Get the data\n",
    "url = 'https://raw.githubusercontent.com/lazyprogrammer/machine_learning_examples/master/tf2.0/moore.csv'\n",
    "download(url, 'moore.csv')"
   ]
  },
  {
   "cell_type": "code",
   "execution_count": 18,
   "metadata": {
    "id": "313wFjffDnZp"
   },
   "outputs": [],
   "source": [
    "# Load in the data\n",
    "data = pd.read_csv('moore.csv', header=None).values\n",
    "X = data[:,0].reshape(-1, 1) # make it a 2-D array of size N x D where D = 1\n",
    "Y = data[:,1]"
   ]
  },
  {
   "cell_type": "markdown",
   "metadata": {},
   "source": [
    "# 2. Preprocessing"
   ]
  },
  {
   "cell_type": "markdown",
   "metadata": {},
   "source": [
    "#### Inspect the Data"
   ]
  },
  {
   "cell_type": "code",
   "execution_count": 19,
   "metadata": {
    "colab": {
     "base_uri": "https://localhost:8080/",
     "height": 293
    },
    "id": "Qea_ckSTEstM",
    "outputId": "82240367-8847-4319-a010-e034c900ca8b"
   },
   "outputs": [
    {
     "data": {
      "text/plain": [
       "<matplotlib.collections.PathCollection at 0x1ab2e01f550>"
      ]
     },
     "execution_count": 19,
     "metadata": {},
     "output_type": "execute_result"
    },
    {
     "data": {
      "image/png": "[encoded data removed]",
      "text/plain": [
       "<Figure size 432x288 with 1 Axes>"
      ]
     },
     "metadata": {
      "needs_background": "light"
     },
     "output_type": "display_data"
    }
   ],
   "source": [
    "# Plot the data - it is exponential!\n",
    "plt.scatter(X, Y)"
   ]
  },
  {
   "cell_type": "markdown",
   "metadata": {},
   "source": [
    "#### Transform the Data (make it linear)"
   ]
  },
  {
   "cell_type": "code",
   "execution_count": 20,
   "metadata": {
    "colab": {
     "base_uri": "https://localhost:8080/",
     "height": 282
    },
    "id": "Mi_fFmqyE4Tx",
    "outputId": "639e9dd8-cc70-44f1-8cf3-dd670804f5bd"
   },
   "outputs": [
    {
     "data": {
      "text/plain": [
       "<matplotlib.collections.PathCollection at 0x1ab3190ba90>"
      ]
     },
     "execution_count": 20,
     "metadata": {},
     "output_type": "execute_result"
    },
    {
     "data": {
      "image/png": "[encoded data removed]",
      "text/plain": [
       "<Figure size 432x288 with 1 Axes>"
      ]
     },
     "metadata": {
      "needs_background": "light"
     },
     "output_type": "display_data"
    }
   ],
   "source": [
    "# Since we want a linear model, let's take the log\n",
    "Y = np.log(Y)\n",
    "plt.scatter(X, Y)\n",
    "# that's better"
   ]
  },
  {
   "cell_type": "markdown",
   "metadata": {},
   "source": [
    "#### Scale the Data"
   ]
  },
  {
   "cell_type": "code",
   "execution_count": 21,
   "metadata": {
    "id": "H7Dh7kAhFY9r"
   },
   "outputs": [],
   "source": [
    "# Let's also center the X data so the values are not too large\n",
    "# We could scale it too but then we'd have to reverse the transformation later\n",
    "X = X - X.mean()"
   ]
  },
  {
   "cell_type": "markdown",
   "metadata": {},
   "source": [
    "# 3. Modelling"
   ]
  },
  {
   "cell_type": "markdown",
   "metadata": {},
   "source": [
    "#### Create Model"
   ]
  },
  {
   "cell_type": "code",
   "execution_count": 30,
   "metadata": {
    "colab": {
     "base_uri": "https://localhost:8080/",
     "height": 1000
    },
    "id": "DJgpK0wZD77X",
    "outputId": "dd79da14-d876-4e61-d769-3fd9f5a7eff5"
   },
   "outputs": [],
   "source": [
    "# Now create our Tensorflow model\n",
    "model = tf.keras.models.Sequential([\n",
    "  tf.keras.layers.Input(shape=(1,)),\n",
    "  tf.keras.layers.Dense(1)\n",
    "])\n",
    "\n",
    "model.compile(optimizer=tf.keras.optimizers.SGD(0.001, 0.9), loss='mse')"
   ]
  },
  {
   "cell_type": "markdown",
   "metadata": {},
   "source": [
    "#### Train the Model"
   ]
  },
  {
   "cell_type": "code",
   "execution_count": 31,
   "metadata": {},
   "outputs": [],
   "source": [
    "def schedule(epoch, lr):\n",
    "    if epoch >= 50:\n",
    "        return 0.0001\n",
    "    return 0.001\n",
    " \n",
    "# Train the model\n",
    "scheduler = tf.keras.callbacks.LearningRateScheduler(schedule)\n",
    "r = model.fit(X, Y, epochs=200, callbacks=[scheduler])"
   ]
  },
  {
   "cell_type": "markdown",
   "metadata": {},
   "source": [
    "#### Inspect Training"
   ]
  },
  {
   "cell_type": "code",
   "execution_count": 32,
   "metadata": {
    "colab": {
     "base_uri": "https://localhost:8080/",
     "height": 282
    },
    "id": "uIgHp7lCEKcb",
    "outputId": "82dc3ba0-55d6-49f2-83f4-abb45079abd3"
   },
   "outputs": [
    {
     "data": {
      "text/plain": [
       "[<matplotlib.lines.Line2D at 0x1ab32e69730>]"
      ]
     },
     "execution_count": 32,
     "metadata": {},
     "output_type": "execute_result"
    },
    {
     "data": {
      "image/png": "[encoded data removed]",
      "text/plain": [
       "<Figure size 432x288 with 1 Axes>"
      ]
     },
     "metadata": {
      "needs_background": "light"
     },
     "output_type": "display_data"
    }
   ],
   "source": [
    "# Plot the loss\n",
    "plt.plot(r.history['loss'], label='loss')"
   ]
  },
  {
   "cell_type": "code",
   "execution_count": 24,
   "metadata": {
    "colab": {
     "base_uri": "https://localhost:8080/",
     "height": 51
    },
    "id": "gsxUvJvAF7nV",
    "outputId": "b9c47a13-8799-4358-a355-9291eceb017e"
   },
   "outputs": [
    {
     "name": "stdout",
     "output_type": "stream",
     "text": [
      "[<tensorflow.python.keras.layers.core.Dense object at 0x000001AB18CECA90>]\n",
      "[array([[0.3439891]], dtype=float32), array([17.763088], dtype=float32)]\n"
     ]
    }
   ],
   "source": [
    "# Get the slope of the line\n",
    "# The slope of the line is related to the doubling rate of transistor count\n",
    "print(model.layers) # Note: there is only 1 layer, the \"Input\" layer doesn't count\n",
    "print(model.layers[0].get_weights())"
   ]
  },
  {
   "cell_type": "code",
   "execution_count": 25,
   "metadata": {
    "id": "hEF-LTNhLCfu"
   },
   "outputs": [],
   "source": [
    "# The slope of the line is:\n",
    "a = model.layers[0].get_weights()[0][0,0]"
   ]
  },
  {
   "cell_type": "markdown",
   "metadata": {
    "id": "5LptW8OvGT7q"
   },
   "source": [
    "Our original model for exponential growth is:\n",
    "\n",
    "$$ C = A_0 r^t $$\n",
    "\n",
    "Where $ C $ is transistor the count and $ t $ is the year.\n",
    "\n",
    "$ r $ is the rate of growth. For example, when $ t $ goes from 1 to 2, $ C $ increases by a factor of $ r $. When $ t $ goes from 2 to 3, $ C $ increases by a factor of $ r $ again.\n",
    "\n",
    "When we take the log of both sides, we get:\n",
    "\n",
    "$$ \\log C = \\log r * t + \\log A_0 $$\n",
    "\n",
    "This is our linear equation:\n",
    "\n",
    "$$ \\hat{y} = ax + b $$\n",
    "\n",
    "Where:\n",
    "\n",
    "$$ \\hat{y} = \\log C $$\n",
    "$$ a = \\log r $$\n",
    "$$ x = t $$\n",
    "$$ b = \\log A_0 $$\n",
    "\n",
    "We are interested in $ r $, because that's the rate of growth. Given our regression weights, we know that:\n",
    "\n",
    "$$ a = 0.34188038 $$\n",
    "\n",
    "so that:\n",
    "\n",
    "$$ r = e^{0.34188038} = 1.4076 $$\n",
    "\n",
    "To find the time it takes for transistor count to double, we simply need to find the amount of time it takes for $ C $ to increase to $ 2C $.\n",
    "\n",
    "Let's call the original starting time $ t $, to correspond with the initial transistor count $ C $.\n",
    "\n",
    "Let's call the end time $ t' $, to correspond with the final transistor count $ 2C $.\n",
    "\n",
    "Then we also have:\n",
    "\n",
    "$$ 2C = A_0 r ^ {t'} $$\n",
    "\n",
    "Combine this with our original equation:\n",
    "\n",
    "$$ C = A_0 r^t $$\n",
    "\n",
    "We get (by dividing the 2 equations):\n",
    "\n",
    "$$ 2C/C = (A_0 r ^ {t'}) / A_0 r^t $$\n",
    "\n",
    "Which simplifies to:\n",
    "\n",
    "$$ 2 = r^{(t' - t)} $$\n",
    "\n",
    "Solve for $ t' - t $:\n",
    "\n",
    "$$ t' - t = \\frac{\\log 2}{\\log r} = \\frac{\\log2}{a}$$\n",
    "\n",
    "\n",
    "Important note! We haven't specified what the starting time $ t $ actually is, and we don't have to since we just proved that this holds for any $ t $."
   ]
  },
  {
   "cell_type": "code",
   "execution_count": 26,
   "metadata": {
    "colab": {
     "base_uri": "https://localhost:8080/",
     "height": 34
    },
    "id": "9hmqGOfuK36y",
    "outputId": "dc61382f-4bbb-4afc-c0cd-36734950eeba"
   },
   "outputs": [
    {
     "name": "stdout",
     "output_type": "stream",
     "text": [
      "Time to double: 2.0150265587901406\n"
     ]
    }
   ],
   "source": [
    "print(\"Time to double:\", np.log(2) / a)"
   ]
  },
  {
   "cell_type": "code",
   "execution_count": 27,
   "metadata": {
    "colab": {
     "base_uri": "https://localhost:8080/",
     "height": 51
    },
    "id": "_8j_jNQQLjzM",
    "outputId": "6d263ab0-eb53-4c23-9312-dd352fe54383"
   },
   "outputs": [
    {
     "name": "stdout",
     "output_type": "stream",
     "text": [
      "0.341682487387313 17.764939393631764\n",
      "Time to double: 2.0286295205239204\n"
     ]
    }
   ],
   "source": [
    "# If you know the analytical solution\n",
    "X = np.array(X).flatten()\n",
    "Y = np.array(Y)\n",
    "denominator = X.dot(X) - X.mean() * X.sum()\n",
    "a = ( X.dot(Y) - Y.mean()*X.sum() ) / denominator\n",
    "b = ( Y.mean() * X.dot(X) - X.mean() * X.dot(Y) ) / denominator\n",
    "print(a, b)\n",
    "print(\"Time to double:\", np.log(2) / a)"
   ]
  },
  {
   "cell_type": "markdown",
   "metadata": {
    "id": "KUl6gdjYUUOX"
   },
   "source": [
    "# Part 2: Making Predictions\n",
    "\n",
    "This goes with the lecture \"Making Predictions\""
   ]
  },
  {
   "cell_type": "code",
   "execution_count": 28,
   "metadata": {
    "colab": {
     "base_uri": "https://localhost:8080/",
     "height": 282
    },
    "id": "vgDaWaNsURIX",
    "outputId": "c288aceb-6c9d-4d98-9c2f-1d5e9ef8a6f0"
   },
   "outputs": [
    {
     "data": {
      "text/plain": [
       "[<matplotlib.lines.Line2D at 0x1ab32e2db20>]"
      ]
     },
     "execution_count": 28,
     "metadata": {},
     "output_type": "execute_result"
    },
    {
     "data": {
      "image/png": "[encoded data removed]",
      "text/plain": [
       "<Figure size 432x288 with 1 Axes>"
      ]
     },
     "metadata": {
      "needs_background": "light"
     },
     "output_type": "display_data"
    }
   ],
   "source": [
    "# Make sure the line fits our data\n",
    "Yhat = model.predict(X).flatten()\n",
    "plt.scatter(X, Y)\n",
    "plt.plot(X, Yhat)"
   ]
  },
  {
   "cell_type": "code",
   "execution_count": 29,
   "metadata": {
    "colab": {
     "base_uri": "https://localhost:8080/",
     "height": 34
    },
    "id": "PRdHtM6yaPo2",
    "outputId": "f5149e8d-8d62-41d5-b318-0c38c16f698d"
   },
   "outputs": [
    {
     "data": {
      "text/plain": [
       "True"
      ]
     },
     "execution_count": 29,
     "metadata": {},
     "output_type": "execute_result"
    }
   ],
   "source": [
    "# Manual calculation\n",
    "\n",
    "# Get the weights\n",
    "w, b = model.layers[0].get_weights()\n",
    "\n",
    "# Reshape X because we flattened it again earlier\n",
    "X = X.reshape(-1, 1)\n",
    "\n",
    "# (N x 1) x (1 x 1) + (1) --> (N x 1)\n",
    "Yhat2 = (X.dot(w) + b).flatten()\n",
    "\n",
    "# Don't use == for floating points\n",
    "np.allclose(Yhat, Yhat2)"
   ]
  }
 ],
 "metadata": {
  "colab": {
   "collapsed_sections": [],
   "name": "TF2.0 Linear Regression.ipynb",
   "provenance": []
  },
  "kernelspec": {
   "display_name": "Python 3",
   "language": "python",
   "name": "python3"
  },
  "language_info": {
   "codemirror_mode": {
    "name": "ipython",
    "version": 3
   },
   "file_extension": ".py",
   "mimetype": "text/x-python",
   "name": "python",
   "nbconvert_exporter": "python",
   "pygments_lexer": "ipython3",
   "version": "3.8.7"
  }
 },
 "nbformat": 4,
 "nbformat_minor": 1
}
